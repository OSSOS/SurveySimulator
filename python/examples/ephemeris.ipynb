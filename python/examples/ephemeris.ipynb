{
 "cells": [
  {
   "cell_type": "code",
   "execution_count": 3,
   "metadata": {},
   "outputs": [],
   "source": [
    "import ossssim"
   ]
  },
  {
   "cell_type": "code",
   "execution_count": 27,
   "metadata": {},
   "outputs": [],
   "source": [
    "filename=\"Models/L7model-3.0-9.0\"\n",
    "model = ossssim.ModelFile(filename)"
   ]
  },
  {
   "cell_type": "code",
   "execution_count": 31,
   "metadata": {},
   "outputs": [
    {
     "name": "stdout",
     "output_type": "stream",
     "text": [
      "    ICRS Equatorial        -->          Heliocentric Eclitpic          \n",
      "**********************************************************************\n",
      "09:46:04.11 +05:59:43.21   -->   146.6931 deg    -7.0314 deg 107.18 AU\n",
      "07:02:28.98 +33:18:21.88   -->   103.2319 deg    10.5815 deg 137.59 AU\n",
      "04:34:23.84 +26:55:54.37   -->    70.9437 deg     4.8973 deg  55.89 AU\n",
      "18:12:45.73 -29:12:46.90   -->   272.7917 deg    -5.8048 deg  68.78 AU\n",
      "01:03:34.00 +12:20:17.84   -->    19.3729 deg     5.1435 deg 127.69 AU\n",
      "09:30:51.25 +08:32:25.63   -->   142.2685 deg    -5.8569 deg 120.34 AU\n",
      "15:49:36.84 -25:04:56.34   -->   240.6726 deg    -4.9001 deg 113.55 AU\n",
      "19:31:35.97 -26:53:29.75   -->   290.3826 deg    -5.0590 deg  57.71 AU\n",
      "12:50:45.84 -19:05:54.50   -->   199.1720 deg   -12.5686 deg 130.30 AU\n",
      "17:06:13.42 -24:35:56.82   -->   257.7801 deg    -1.7278 deg  38.84 AU\n",
      "20:45:09.22 -18:04:51.67   -->   308.8434 deg    -0.0356 deg  78.22 AU\n",
      "12:40:26.88 -17:01:21.10   -->   196.0252 deg   -11.6424 deg  82.50 AU\n",
      "01:18:39.28 +06:33:58.00   -->    20.6304 deg    -1.6079 deg  40.54 AU\n",
      "15:25:39.55 -17:56:53.02   -->   233.5968 deg     0.7493 deg 110.92 AU\n",
      "11:54:23.08 -10:54:10.70   -->   183.0949 deg   -10.5503 deg  90.27 AU\n",
      "22:45:40.68 -02:50:49.98   -->   341.7703 deg     4.6473 deg  74.06 AU\n",
      "19:00:08.43 -25:18:55.67   -->   283.5708 deg    -2.5820 deg 135.48 AU\n",
      "22:37:12.41 +00:17:04.16   -->   340.9852 deg     8.3461 deg 111.25 AU\n",
      "15:31:22.88 -39:33:59.31   -->   240.3182 deg   -19.8778 deg 112.34 AU\n",
      "20:47:16.60 -02:57:37.67   -->   313.4261 deg    14.3994 deg  65.68 AU\n",
      "14:37:20.52 -26:35:38.94   -->   225.2572 deg   -10.6762 deg  38.86 AU\n"
     ]
    }
   ],
   "source": [
    "\n",
    "# get an ephem object to compute ephemeris locations with\n",
    "# needs the location of the observer and epoch of elements as jd\n",
    "# then call this objet with a dictionary of elements, here we use the dictionary that\n",
    "# is returned by loading the model object file.\n",
    "ephem_calc = ossssim.Ephem(code=568, epoch=model.epoch.to('day').value)\n",
    "\n",
    "# Write out a pretty header\n",
    "print(f\"{'ICRS Equatorial':^24s}   --> {'Heliocentric Eclitpic':^40s}\")\n",
    "print(f\"{'*'*70}\")\n",
    "\n",
    "# we'll do the first 20 rows\n",
    "i = 0\n",
    "niter = 20\n",
    "for row in model:\n",
    "    # Compute the ephemeris using our Ephem object\n",
    "    coord = ephem_calc(row)\n",
    "    \n",
    "    # transform those coordinates to ecliptic (the return from Ephem is a SkyCoord object)\n",
    "    ecliptic = coord.transform_to('heliocentrictrueecliptic')\n",
    "    \n",
    "    # write out the result, as an example of what is going on.\n",
    "    print(f\"{coord.to_string('hmsdms', sep=':', precision=2)}   --> {ecliptic.lon:10.4f} {ecliptic.lat:10.4f} {ecliptic.distance:6.2f}\")\n",
    "\n",
    "    i += 1\n",
    "    if i > niter :\n",
    "        break"
   ]
  },
  {
   "cell_type": "code",
   "execution_count": null,
   "metadata": {},
   "outputs": [],
   "source": []
  }
 ],
 "metadata": {
  "kernelspec": {
   "display_name": "Python 3",
   "language": "python",
   "name": "python3"
  },
  "language_info": {
   "codemirror_mode": {
    "name": "ipython",
    "version": 3
   },
   "file_extension": ".py",
   "mimetype": "text/x-python",
   "name": "python",
   "nbconvert_exporter": "python",
   "pygments_lexer": "ipython3",
   "version": "3.9.1"
  }
 },
 "nbformat": 4,
 "nbformat_minor": 1
}
